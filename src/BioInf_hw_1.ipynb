{
 "cells": [
  {
   "cell_type": "code",
   "execution_count": 42,
   "metadata": {},
   "outputs": [],
   "source": [
    "import re"
   ]
  },
  {
   "cell_type": "code",
   "execution_count": 58,
   "metadata": {},
   "outputs": [],
   "source": [
    "def get_info(f, text, mode = True):\n",
    "    if mode:\n",
    "        print(f'Анализ {text}:\\n')\n",
    "    lengths = []\n",
    "    total_len = 0\n",
    "    num = 0\n",
    "    max_len = 0\n",
    "    length = 0\n",
    "    max_sequence = ''\n",
    "    curr_sequence = ''\n",
    "    for line in f:\n",
    "        if (line[0] == '>'):\n",
    "            if num != 0:\n",
    "                lengths.append(length)\n",
    "            num += 1\n",
    "            if length >= max_len:\n",
    "                max_len = length\n",
    "                max_sequence = curr_sequence\n",
    "            curr_sequence = ''\n",
    "            length = 0\n",
    "        else:\n",
    "            curr_sequence += line.strip()\n",
    "            length += len(line.strip())\n",
    "            total_len += len(line.strip())\n",
    "    if mode:      \n",
    "        print(f'Общее количество: {num},\\nОбщая длина: {total_len},\\nДлина самого длинного: {max_len},')\n",
    "        score = 0\n",
    "        lengths.sort(reverse = True) \n",
    "        for i in lengths:\n",
    "            score += i\n",
    "            if score >= total_len / 2:\n",
    "                print(f'N50: {i}\\n')\n",
    "                break\n",
    "    return max_sequence"
   ]
  },
  {
   "cell_type": "code",
   "execution_count": 59,
   "metadata": {},
   "outputs": [
    {
     "name": "stdout",
     "output_type": "stream",
     "text": [
      "Анализ контигов:\n",
      "\n",
      "Общее количество: 594,\n",
      "Общая длина: 3923854,\n",
      "Длина самого длинного: 179304,\n",
      "N50: 54904\n",
      "\n"
     ]
    }
   ],
   "source": [
    "file = open('contig.fa', 'r')\n",
    "_ = get_info(file, 'контигов')"
   ]
  },
  {
   "cell_type": "code",
   "execution_count": 60,
   "metadata": {},
   "outputs": [
    {
     "name": "stdout",
     "output_type": "stream",
     "text": [
      "Анализ скаффолдов:\n",
      "\n",
      "Общее количество: 67,\n",
      "Общая длина: 3873754,\n",
      "Длина самого длинного: 3834090,\n",
      "N50: 3834090\n",
      "\n",
      "Количество гэпов:  61\n",
      "Общая длина гэпов: 6241\n"
     ]
    }
   ],
   "source": [
    "file = open('scaffold.fa', 'r')\n",
    "max_scaff = get_info(file, 'скаффолдов')\n",
    "print('Количество гэпов: ', re.sub(r'N{2,}', 'N', max_scaff).count(\"N\"))\n",
    "print(f'Общая длина гэпов: {max_scaff.count(\"N\")}')"
   ]
  },
  {
   "cell_type": "code",
   "execution_count": 61,
   "metadata": {},
   "outputs": [
    {
     "name": "stdout",
     "output_type": "stream",
     "text": [
      "Количество гэпов:  8\n",
      "Общая длина гэпов: 1240\n"
     ]
    }
   ],
   "source": [
    "file = open('Poil_gapClosed.fa', 'r')\n",
    "max_scaff = get_info(file, 'скаффолдов', False)\n",
    "print('Количество гэпов: ', re.sub(r'N{2,}', 'N', max_scaff).count(\"N\"))\n",
    "print(f'Общая длина гэпов: {max_scaff.count(\"N\")}')"
   ]
  }
 ],
 "metadata": {
  "kernelspec": {
   "display_name": "Python 3",
   "language": "python",
   "name": "python3"
  },
  "language_info": {
   "codemirror_mode": {
    "name": "ipython",
    "version": 3
   },
   "file_extension": ".py",
   "mimetype": "text/x-python",
   "name": "python",
   "nbconvert_exporter": "python",
   "pygments_lexer": "ipython3",
   "version": "3.7.4"
  }
 },
 "nbformat": 4,
 "nbformat_minor": 2
}
